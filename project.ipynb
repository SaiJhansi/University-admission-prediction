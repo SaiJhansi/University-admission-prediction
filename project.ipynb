{
 "cells": [
  {
   "cell_type": "code",
   "execution_count": 1,
   "metadata": {},
   "outputs": [],
   "source": [
    "import numpy as np\n",
    "import matplotlib.pyplot as plt\n",
    "import pandas as pd"
   ]
  },
  {
   "cell_type": "code",
   "execution_count": 2,
   "metadata": {},
   "outputs": [
    {
     "data": {
      "text/html": [
       "<div>\n",
       "<style scoped>\n",
       "    .dataframe tbody tr th:only-of-type {\n",
       "        vertical-align: middle;\n",
       "    }\n",
       "\n",
       "    .dataframe tbody tr th {\n",
       "        vertical-align: top;\n",
       "    }\n",
       "\n",
       "    .dataframe thead th {\n",
       "        text-align: right;\n",
       "    }\n",
       "</style>\n",
       "<table border=\"1\" class=\"dataframe\">\n",
       "  <thead>\n",
       "    <tr style=\"text-align: right;\">\n",
       "      <th></th>\n",
       "      <th>Serial No.</th>\n",
       "      <th>GRE Score</th>\n",
       "      <th>TOEFL Score</th>\n",
       "      <th>University Rating</th>\n",
       "      <th>SOP</th>\n",
       "      <th>LOR</th>\n",
       "      <th>CGPA</th>\n",
       "      <th>Research</th>\n",
       "      <th>Chance of Admit</th>\n",
       "    </tr>\n",
       "  </thead>\n",
       "  <tbody>\n",
       "    <tr>\n",
       "      <th>0</th>\n",
       "      <td>1</td>\n",
       "      <td>337</td>\n",
       "      <td>118</td>\n",
       "      <td>4</td>\n",
       "      <td>4.5</td>\n",
       "      <td>4.5</td>\n",
       "      <td>9.65</td>\n",
       "      <td>1</td>\n",
       "      <td>0.92</td>\n",
       "    </tr>\n",
       "    <tr>\n",
       "      <th>1</th>\n",
       "      <td>2</td>\n",
       "      <td>324</td>\n",
       "      <td>107</td>\n",
       "      <td>4</td>\n",
       "      <td>4.0</td>\n",
       "      <td>4.5</td>\n",
       "      <td>8.87</td>\n",
       "      <td>1</td>\n",
       "      <td>0.76</td>\n",
       "    </tr>\n",
       "    <tr>\n",
       "      <th>2</th>\n",
       "      <td>3</td>\n",
       "      <td>316</td>\n",
       "      <td>104</td>\n",
       "      <td>3</td>\n",
       "      <td>3.0</td>\n",
       "      <td>3.5</td>\n",
       "      <td>8.00</td>\n",
       "      <td>1</td>\n",
       "      <td>0.72</td>\n",
       "    </tr>\n",
       "    <tr>\n",
       "      <th>3</th>\n",
       "      <td>4</td>\n",
       "      <td>322</td>\n",
       "      <td>110</td>\n",
       "      <td>3</td>\n",
       "      <td>3.5</td>\n",
       "      <td>2.5</td>\n",
       "      <td>8.67</td>\n",
       "      <td>1</td>\n",
       "      <td>0.80</td>\n",
       "    </tr>\n",
       "    <tr>\n",
       "      <th>4</th>\n",
       "      <td>5</td>\n",
       "      <td>314</td>\n",
       "      <td>103</td>\n",
       "      <td>2</td>\n",
       "      <td>2.0</td>\n",
       "      <td>3.0</td>\n",
       "      <td>8.21</td>\n",
       "      <td>0</td>\n",
       "      <td>0.65</td>\n",
       "    </tr>\n",
       "    <tr>\n",
       "      <th>...</th>\n",
       "      <td>...</td>\n",
       "      <td>...</td>\n",
       "      <td>...</td>\n",
       "      <td>...</td>\n",
       "      <td>...</td>\n",
       "      <td>...</td>\n",
       "      <td>...</td>\n",
       "      <td>...</td>\n",
       "      <td>...</td>\n",
       "    </tr>\n",
       "    <tr>\n",
       "      <th>395</th>\n",
       "      <td>396</td>\n",
       "      <td>324</td>\n",
       "      <td>110</td>\n",
       "      <td>3</td>\n",
       "      <td>3.5</td>\n",
       "      <td>3.5</td>\n",
       "      <td>9.04</td>\n",
       "      <td>1</td>\n",
       "      <td>0.82</td>\n",
       "    </tr>\n",
       "    <tr>\n",
       "      <th>396</th>\n",
       "      <td>397</td>\n",
       "      <td>325</td>\n",
       "      <td>107</td>\n",
       "      <td>3</td>\n",
       "      <td>3.0</td>\n",
       "      <td>3.5</td>\n",
       "      <td>9.11</td>\n",
       "      <td>1</td>\n",
       "      <td>0.84</td>\n",
       "    </tr>\n",
       "    <tr>\n",
       "      <th>397</th>\n",
       "      <td>398</td>\n",
       "      <td>330</td>\n",
       "      <td>116</td>\n",
       "      <td>4</td>\n",
       "      <td>5.0</td>\n",
       "      <td>4.5</td>\n",
       "      <td>9.45</td>\n",
       "      <td>1</td>\n",
       "      <td>0.91</td>\n",
       "    </tr>\n",
       "    <tr>\n",
       "      <th>398</th>\n",
       "      <td>399</td>\n",
       "      <td>312</td>\n",
       "      <td>103</td>\n",
       "      <td>3</td>\n",
       "      <td>3.5</td>\n",
       "      <td>4.0</td>\n",
       "      <td>8.78</td>\n",
       "      <td>0</td>\n",
       "      <td>0.67</td>\n",
       "    </tr>\n",
       "    <tr>\n",
       "      <th>399</th>\n",
       "      <td>400</td>\n",
       "      <td>333</td>\n",
       "      <td>117</td>\n",
       "      <td>4</td>\n",
       "      <td>5.0</td>\n",
       "      <td>4.0</td>\n",
       "      <td>9.66</td>\n",
       "      <td>1</td>\n",
       "      <td>0.95</td>\n",
       "    </tr>\n",
       "  </tbody>\n",
       "</table>\n",
       "<p>400 rows × 9 columns</p>\n",
       "</div>"
      ],
      "text/plain": [
       "     Serial No.  GRE Score  TOEFL Score  University Rating  SOP  LOR   CGPA  \\\n",
       "0             1        337          118                  4  4.5   4.5  9.65   \n",
       "1             2        324          107                  4  4.0   4.5  8.87   \n",
       "2             3        316          104                  3  3.0   3.5  8.00   \n",
       "3             4        322          110                  3  3.5   2.5  8.67   \n",
       "4             5        314          103                  2  2.0   3.0  8.21   \n",
       "..          ...        ...          ...                ...  ...   ...   ...   \n",
       "395         396        324          110                  3  3.5   3.5  9.04   \n",
       "396         397        325          107                  3  3.0   3.5  9.11   \n",
       "397         398        330          116                  4  5.0   4.5  9.45   \n",
       "398         399        312          103                  3  3.5   4.0  8.78   \n",
       "399         400        333          117                  4  5.0   4.0  9.66   \n",
       "\n",
       "     Research  Chance of Admit   \n",
       "0           1              0.92  \n",
       "1           1              0.76  \n",
       "2           1              0.72  \n",
       "3           1              0.80  \n",
       "4           0              0.65  \n",
       "..        ...               ...  \n",
       "395         1              0.82  \n",
       "396         1              0.84  \n",
       "397         1              0.91  \n",
       "398         0              0.67  \n",
       "399         1              0.95  \n",
       "\n",
       "[400 rows x 9 columns]"
      ]
     },
     "execution_count": 2,
     "metadata": {},
     "output_type": "execute_result"
    }
   ],
   "source": [
    "dataset=pd.read_csv('Admission_predict.csv')\n",
    "dataset"
   ]
  },
  {
   "cell_type": "code",
   "execution_count": 3,
   "metadata": {},
   "outputs": [
    {
     "data": {
      "text/plain": [
       "Serial No.           False\n",
       "GRE Score            False\n",
       "TOEFL Score          False\n",
       "University Rating    False\n",
       "SOP                  False\n",
       "LOR                  False\n",
       "CGPA                 False\n",
       "Research             False\n",
       "Chance of Admit      False\n",
       "dtype: bool"
      ]
     },
     "execution_count": 3,
     "metadata": {},
     "output_type": "execute_result"
    }
   ],
   "source": [
    "dataset.isnull().any()"
   ]
  },
  {
   "cell_type": "code",
   "execution_count": 4,
   "metadata": {},
   "outputs": [
    {
     "data": {
      "text/html": [
       "<div>\n",
       "<style scoped>\n",
       "    .dataframe tbody tr th:only-of-type {\n",
       "        vertical-align: middle;\n",
       "    }\n",
       "\n",
       "    .dataframe tbody tr th {\n",
       "        vertical-align: top;\n",
       "    }\n",
       "\n",
       "    .dataframe thead th {\n",
       "        text-align: right;\n",
       "    }\n",
       "</style>\n",
       "<table border=\"1\" class=\"dataframe\">\n",
       "  <thead>\n",
       "    <tr style=\"text-align: right;\">\n",
       "      <th></th>\n",
       "      <th>GRE Score</th>\n",
       "      <th>TOEFL Score</th>\n",
       "      <th>University Rating</th>\n",
       "      <th>SOP</th>\n",
       "      <th>LOR</th>\n",
       "      <th>CGPA</th>\n",
       "      <th>Research</th>\n",
       "      <th>Chance of Admit</th>\n",
       "    </tr>\n",
       "  </thead>\n",
       "  <tbody>\n",
       "    <tr>\n",
       "      <th>0</th>\n",
       "      <td>337</td>\n",
       "      <td>118</td>\n",
       "      <td>4</td>\n",
       "      <td>4.5</td>\n",
       "      <td>4.5</td>\n",
       "      <td>9.65</td>\n",
       "      <td>1</td>\n",
       "      <td>0.92</td>\n",
       "    </tr>\n",
       "    <tr>\n",
       "      <th>1</th>\n",
       "      <td>324</td>\n",
       "      <td>107</td>\n",
       "      <td>4</td>\n",
       "      <td>4.0</td>\n",
       "      <td>4.5</td>\n",
       "      <td>8.87</td>\n",
       "      <td>1</td>\n",
       "      <td>0.76</td>\n",
       "    </tr>\n",
       "    <tr>\n",
       "      <th>2</th>\n",
       "      <td>316</td>\n",
       "      <td>104</td>\n",
       "      <td>3</td>\n",
       "      <td>3.0</td>\n",
       "      <td>3.5</td>\n",
       "      <td>8.00</td>\n",
       "      <td>1</td>\n",
       "      <td>0.72</td>\n",
       "    </tr>\n",
       "    <tr>\n",
       "      <th>3</th>\n",
       "      <td>322</td>\n",
       "      <td>110</td>\n",
       "      <td>3</td>\n",
       "      <td>3.5</td>\n",
       "      <td>2.5</td>\n",
       "      <td>8.67</td>\n",
       "      <td>1</td>\n",
       "      <td>0.80</td>\n",
       "    </tr>\n",
       "    <tr>\n",
       "      <th>4</th>\n",
       "      <td>314</td>\n",
       "      <td>103</td>\n",
       "      <td>2</td>\n",
       "      <td>2.0</td>\n",
       "      <td>3.0</td>\n",
       "      <td>8.21</td>\n",
       "      <td>0</td>\n",
       "      <td>0.65</td>\n",
       "    </tr>\n",
       "    <tr>\n",
       "      <th>...</th>\n",
       "      <td>...</td>\n",
       "      <td>...</td>\n",
       "      <td>...</td>\n",
       "      <td>...</td>\n",
       "      <td>...</td>\n",
       "      <td>...</td>\n",
       "      <td>...</td>\n",
       "      <td>...</td>\n",
       "    </tr>\n",
       "    <tr>\n",
       "      <th>395</th>\n",
       "      <td>324</td>\n",
       "      <td>110</td>\n",
       "      <td>3</td>\n",
       "      <td>3.5</td>\n",
       "      <td>3.5</td>\n",
       "      <td>9.04</td>\n",
       "      <td>1</td>\n",
       "      <td>0.82</td>\n",
       "    </tr>\n",
       "    <tr>\n",
       "      <th>396</th>\n",
       "      <td>325</td>\n",
       "      <td>107</td>\n",
       "      <td>3</td>\n",
       "      <td>3.0</td>\n",
       "      <td>3.5</td>\n",
       "      <td>9.11</td>\n",
       "      <td>1</td>\n",
       "      <td>0.84</td>\n",
       "    </tr>\n",
       "    <tr>\n",
       "      <th>397</th>\n",
       "      <td>330</td>\n",
       "      <td>116</td>\n",
       "      <td>4</td>\n",
       "      <td>5.0</td>\n",
       "      <td>4.5</td>\n",
       "      <td>9.45</td>\n",
       "      <td>1</td>\n",
       "      <td>0.91</td>\n",
       "    </tr>\n",
       "    <tr>\n",
       "      <th>398</th>\n",
       "      <td>312</td>\n",
       "      <td>103</td>\n",
       "      <td>3</td>\n",
       "      <td>3.5</td>\n",
       "      <td>4.0</td>\n",
       "      <td>8.78</td>\n",
       "      <td>0</td>\n",
       "      <td>0.67</td>\n",
       "    </tr>\n",
       "    <tr>\n",
       "      <th>399</th>\n",
       "      <td>333</td>\n",
       "      <td>117</td>\n",
       "      <td>4</td>\n",
       "      <td>5.0</td>\n",
       "      <td>4.0</td>\n",
       "      <td>9.66</td>\n",
       "      <td>1</td>\n",
       "      <td>0.95</td>\n",
       "    </tr>\n",
       "  </tbody>\n",
       "</table>\n",
       "<p>400 rows × 8 columns</p>\n",
       "</div>"
      ],
      "text/plain": [
       "     GRE Score  TOEFL Score  University Rating  SOP  LOR   CGPA  Research  \\\n",
       "0          337          118                  4  4.5   4.5  9.65         1   \n",
       "1          324          107                  4  4.0   4.5  8.87         1   \n",
       "2          316          104                  3  3.0   3.5  8.00         1   \n",
       "3          322          110                  3  3.5   2.5  8.67         1   \n",
       "4          314          103                  2  2.0   3.0  8.21         0   \n",
       "..         ...          ...                ...  ...   ...   ...       ...   \n",
       "395        324          110                  3  3.5   3.5  9.04         1   \n",
       "396        325          107                  3  3.0   3.5  9.11         1   \n",
       "397        330          116                  4  5.0   4.5  9.45         1   \n",
       "398        312          103                  3  3.5   4.0  8.78         0   \n",
       "399        333          117                  4  5.0   4.0  9.66         1   \n",
       "\n",
       "     Chance of Admit   \n",
       "0                0.92  \n",
       "1                0.76  \n",
       "2                0.72  \n",
       "3                0.80  \n",
       "4                0.65  \n",
       "..                ...  \n",
       "395              0.82  \n",
       "396              0.84  \n",
       "397              0.91  \n",
       "398              0.67  \n",
       "399              0.95  \n",
       "\n",
       "[400 rows x 8 columns]"
      ]
     },
     "execution_count": 4,
     "metadata": {},
     "output_type": "execute_result"
    }
   ],
   "source": [
    "dataset.drop('Serial No.', axis=1, inplace=True)\n",
    "dataset"
   ]
  },
  {
   "cell_type": "code",
   "execution_count": 5,
   "metadata": {},
   "outputs": [
    {
     "data": {
      "text/plain": [
       "array([[118.  ,   4.  ,   4.5 , ...,   9.65,   1.  ,   0.92],\n",
       "       [107.  ,   4.  ,   4.  , ...,   8.87,   1.  ,   0.76],\n",
       "       [104.  ,   3.  ,   3.  , ...,   8.  ,   1.  ,   0.72],\n",
       "       ...,\n",
       "       [116.  ,   4.  ,   5.  , ...,   9.45,   1.  ,   0.91],\n",
       "       [103.  ,   3.  ,   3.5 , ...,   8.78,   0.  ,   0.67],\n",
       "       [117.  ,   4.  ,   5.  , ...,   9.66,   1.  ,   0.95]])"
      ]
     },
     "execution_count": 5,
     "metadata": {},
     "output_type": "execute_result"
    }
   ],
   "source": [
    "x=dataset.iloc[:,1:8].values   \n",
    "x"
   ]
  },
  {
   "cell_type": "code",
   "execution_count": 6,
   "metadata": {},
   "outputs": [
    {
     "data": {
      "text/plain": [
       "array([0.92, 0.76, 0.72, 0.8 , 0.65, 0.9 , 0.75, 0.68, 0.5 , 0.45, 0.52,\n",
       "       0.84, 0.78, 0.62, 0.61, 0.54, 0.66, 0.65, 0.63, 0.62, 0.64, 0.7 ,\n",
       "       0.94, 0.95, 0.97, 0.94, 0.76, 0.44, 0.46, 0.54, 0.65, 0.74, 0.91,\n",
       "       0.9 , 0.94, 0.88, 0.64, 0.58, 0.52, 0.48, 0.46, 0.49, 0.53, 0.87,\n",
       "       0.91, 0.88, 0.86, 0.89, 0.82, 0.78, 0.76, 0.56, 0.78, 0.72, 0.7 ,\n",
       "       0.64, 0.64, 0.46, 0.36, 0.42, 0.48, 0.47, 0.54, 0.56, 0.52, 0.55,\n",
       "       0.61, 0.57, 0.68, 0.78, 0.94, 0.96, 0.93, 0.84, 0.74, 0.72, 0.74,\n",
       "       0.64, 0.44, 0.46, 0.5 , 0.96, 0.92, 0.92, 0.94, 0.76, 0.72, 0.66,\n",
       "       0.64, 0.74, 0.64, 0.38, 0.34, 0.44, 0.36, 0.42, 0.48, 0.86, 0.9 ,\n",
       "       0.79, 0.71, 0.64, 0.62, 0.57, 0.74, 0.69, 0.87, 0.91, 0.93, 0.68,\n",
       "       0.61, 0.69, 0.62, 0.72, 0.59, 0.66, 0.56, 0.45, 0.47, 0.71, 0.94,\n",
       "       0.94, 0.57, 0.61, 0.57, 0.64, 0.85, 0.78, 0.84, 0.92, 0.96, 0.77,\n",
       "       0.71, 0.79, 0.89, 0.82, 0.76, 0.71, 0.8 , 0.78, 0.84, 0.9 , 0.92,\n",
       "       0.97, 0.8 , 0.81, 0.75, 0.83, 0.96, 0.79, 0.93, 0.94, 0.86, 0.79,\n",
       "       0.8 , 0.77, 0.7 , 0.65, 0.61, 0.52, 0.57, 0.53, 0.67, 0.68, 0.81,\n",
       "       0.78, 0.65, 0.64, 0.64, 0.65, 0.68, 0.89, 0.86, 0.89, 0.87, 0.85,\n",
       "       0.9 , 0.82, 0.72, 0.73, 0.71, 0.71, 0.68, 0.75, 0.72, 0.89, 0.84,\n",
       "       0.93, 0.93, 0.88, 0.9 , 0.87, 0.86, 0.94, 0.77, 0.78, 0.73, 0.73,\n",
       "       0.7 , 0.72, 0.73, 0.72, 0.97, 0.97, 0.69, 0.57, 0.63, 0.66, 0.64,\n",
       "       0.68, 0.79, 0.82, 0.95, 0.96, 0.94, 0.93, 0.91, 0.85, 0.84, 0.74,\n",
       "       0.76, 0.75, 0.76, 0.71, 0.67, 0.61, 0.63, 0.64, 0.71, 0.82, 0.73,\n",
       "       0.74, 0.69, 0.64, 0.91, 0.88, 0.85, 0.86, 0.7 , 0.59, 0.6 , 0.65,\n",
       "       0.7 , 0.76, 0.63, 0.81, 0.72, 0.71, 0.8 , 0.77, 0.74, 0.7 , 0.71,\n",
       "       0.93, 0.85, 0.79, 0.76, 0.78, 0.77, 0.9 , 0.87, 0.71, 0.7 , 0.7 ,\n",
       "       0.75, 0.71, 0.72, 0.73, 0.83, 0.77, 0.72, 0.54, 0.49, 0.52, 0.58,\n",
       "       0.78, 0.89, 0.7 , 0.66, 0.67, 0.68, 0.8 , 0.81, 0.8 , 0.94, 0.93,\n",
       "       0.92, 0.89, 0.82, 0.79, 0.58, 0.56, 0.56, 0.64, 0.61, 0.68, 0.76,\n",
       "       0.86, 0.9 , 0.71, 0.62, 0.66, 0.65, 0.73, 0.62, 0.74, 0.79, 0.8 ,\n",
       "       0.69, 0.7 , 0.76, 0.84, 0.78, 0.67, 0.66, 0.65, 0.54, 0.58, 0.79,\n",
       "       0.8 , 0.75, 0.73, 0.72, 0.62, 0.67, 0.81, 0.63, 0.69, 0.8 , 0.43,\n",
       "       0.8 , 0.73, 0.75, 0.71, 0.73, 0.83, 0.72, 0.94, 0.81, 0.81, 0.75,\n",
       "       0.79, 0.58, 0.59, 0.47, 0.49, 0.47, 0.42, 0.57, 0.62, 0.74, 0.73,\n",
       "       0.64, 0.63, 0.59, 0.73, 0.79, 0.68, 0.7 , 0.81, 0.85, 0.93, 0.91,\n",
       "       0.69, 0.77, 0.86, 0.74, 0.57, 0.51, 0.67, 0.72, 0.89, 0.95, 0.79,\n",
       "       0.39, 0.38, 0.34, 0.47, 0.56, 0.71, 0.78, 0.73, 0.82, 0.62, 0.96,\n",
       "       0.96, 0.46, 0.53, 0.49, 0.76, 0.64, 0.71, 0.84, 0.77, 0.89, 0.82,\n",
       "       0.84, 0.91, 0.67, 0.95])"
      ]
     },
     "execution_count": 6,
     "metadata": {},
     "output_type": "execute_result"
    }
   ],
   "source": [
    "y=dataset.iloc[:,-1].values   \n",
    "y"
   ]
  },
  {
   "cell_type": "code",
   "execution_count": 7,
   "metadata": {},
   "outputs": [
    {
     "data": {
      "text/plain": [
       "(400, 7)"
      ]
     },
     "execution_count": 7,
     "metadata": {},
     "output_type": "execute_result"
    }
   ],
   "source": [
    "x.shape"
   ]
  },
  {
   "cell_type": "code",
   "execution_count": 8,
   "metadata": {},
   "outputs": [],
   "source": [
    "from sklearn.preprocessing import LabelEncoder"
   ]
  },
  {
   "cell_type": "code",
   "execution_count": 9,
   "metadata": {},
   "outputs": [
    {
     "data": {
      "text/plain": [
       "array([54, 38, 34, 42, 27, 52, 37, 30, 12,  7, 14, 46, 40, 24, 23, 16, 28,\n",
       "       27, 25, 24, 26, 32, 56, 57, 59, 56, 38,  6,  8, 16, 27, 36, 53, 52,\n",
       "       56, 50, 26, 20, 14, 10,  8, 11, 15, 49, 53, 50, 48, 51, 44, 40, 38,\n",
       "       18, 40, 34, 32, 26, 26,  8,  1,  4, 10,  9, 16, 18, 14, 17, 23, 19,\n",
       "       30, 40, 56, 58, 55, 46, 36, 34, 36, 26,  6,  8, 12, 58, 54, 54, 56,\n",
       "       38, 34, 28, 26, 36, 26,  2,  0,  6,  1,  4, 10, 48, 52, 41, 33, 26,\n",
       "       24, 19, 36, 31, 49, 53, 55, 30, 23, 31, 24, 34, 21, 28, 18,  7,  9,\n",
       "       33, 56, 56, 19, 23, 19, 26, 47, 40, 46, 54, 58, 39, 33, 41, 51, 44,\n",
       "       38, 33, 42, 40, 46, 52, 54, 59, 42, 43, 37, 45, 58, 41, 55, 56, 48,\n",
       "       41, 42, 39, 32, 27, 23, 14, 19, 15, 29, 30, 43, 40, 27, 26, 26, 27,\n",
       "       30, 51, 48, 51, 49, 47, 52, 44, 34, 35, 33, 33, 30, 37, 34, 51, 46,\n",
       "       55, 55, 50, 52, 49, 48, 56, 39, 40, 35, 35, 32, 34, 35, 34, 59, 59,\n",
       "       31, 19, 25, 28, 26, 30, 41, 44, 57, 58, 56, 55, 53, 47, 46, 36, 38,\n",
       "       37, 38, 33, 29, 23, 25, 26, 33, 44, 35, 36, 31, 26, 53, 50, 47, 48,\n",
       "       32, 21, 22, 27, 32, 38, 25, 43, 34, 33, 42, 39, 36, 32, 33, 55, 47,\n",
       "       41, 38, 40, 39, 52, 49, 33, 32, 32, 37, 33, 34, 35, 45, 39, 34, 16,\n",
       "       11, 14, 20, 40, 51, 32, 28, 29, 30, 42, 43, 42, 56, 55, 54, 51, 44,\n",
       "       41, 20, 18, 18, 26, 23, 30, 38, 48, 52, 33, 24, 28, 27, 35, 24, 36,\n",
       "       41, 42, 31, 32, 38, 46, 40, 29, 28, 27, 16, 20, 41, 42, 37, 35, 34,\n",
       "       24, 29, 43, 25, 31, 42,  5, 42, 35, 37, 33, 35, 45, 34, 56, 43, 43,\n",
       "       37, 41, 20, 21,  9, 11,  9,  4, 19, 24, 36, 35, 26, 25, 21, 35, 41,\n",
       "       30, 32, 43, 47, 55, 53, 31, 39, 48, 36, 19, 13, 29, 34, 51, 57, 41,\n",
       "        3,  2,  0,  9, 18, 33, 40, 35, 44, 24, 58, 58,  8, 15, 11, 38, 26,\n",
       "       33, 46, 39, 51, 44, 46, 53, 29, 57], dtype=int64)"
      ]
     },
     "execution_count": 9,
     "metadata": {},
     "output_type": "execute_result"
    }
   ],
   "source": [
    "lb=LabelEncoder()    \n",
    "y=lb.fit_transform(y)\n",
    "y "
   ]
  },
  {
   "cell_type": "code",
   "execution_count": 10,
   "metadata": {},
   "outputs": [
    {
     "data": {
      "text/html": [
       "<div>\n",
       "<style scoped>\n",
       "    .dataframe tbody tr th:only-of-type {\n",
       "        vertical-align: middle;\n",
       "    }\n",
       "\n",
       "    .dataframe tbody tr th {\n",
       "        vertical-align: top;\n",
       "    }\n",
       "\n",
       "    .dataframe thead th {\n",
       "        text-align: right;\n",
       "    }\n",
       "</style>\n",
       "<table border=\"1\" class=\"dataframe\">\n",
       "  <thead>\n",
       "    <tr style=\"text-align: right;\">\n",
       "      <th></th>\n",
       "      <th>GRE Score</th>\n",
       "      <th>TOEFL Score</th>\n",
       "      <th>University Rating</th>\n",
       "      <th>SOP</th>\n",
       "      <th>LOR</th>\n",
       "      <th>CGPA</th>\n",
       "      <th>Research</th>\n",
       "      <th>Chance of Admit</th>\n",
       "    </tr>\n",
       "  </thead>\n",
       "  <tbody>\n",
       "    <tr>\n",
       "      <th>count</th>\n",
       "      <td>400.000000</td>\n",
       "      <td>400.000000</td>\n",
       "      <td>400.000000</td>\n",
       "      <td>400.000000</td>\n",
       "      <td>400.000000</td>\n",
       "      <td>400.000000</td>\n",
       "      <td>400.000000</td>\n",
       "      <td>400.000000</td>\n",
       "    </tr>\n",
       "    <tr>\n",
       "      <th>mean</th>\n",
       "      <td>316.807500</td>\n",
       "      <td>107.410000</td>\n",
       "      <td>3.087500</td>\n",
       "      <td>3.400000</td>\n",
       "      <td>3.452500</td>\n",
       "      <td>8.598925</td>\n",
       "      <td>0.547500</td>\n",
       "      <td>0.724350</td>\n",
       "    </tr>\n",
       "    <tr>\n",
       "      <th>std</th>\n",
       "      <td>11.473646</td>\n",
       "      <td>6.069514</td>\n",
       "      <td>1.143728</td>\n",
       "      <td>1.006869</td>\n",
       "      <td>0.898478</td>\n",
       "      <td>0.596317</td>\n",
       "      <td>0.498362</td>\n",
       "      <td>0.142609</td>\n",
       "    </tr>\n",
       "    <tr>\n",
       "      <th>min</th>\n",
       "      <td>290.000000</td>\n",
       "      <td>92.000000</td>\n",
       "      <td>1.000000</td>\n",
       "      <td>1.000000</td>\n",
       "      <td>1.000000</td>\n",
       "      <td>6.800000</td>\n",
       "      <td>0.000000</td>\n",
       "      <td>0.340000</td>\n",
       "    </tr>\n",
       "    <tr>\n",
       "      <th>25%</th>\n",
       "      <td>308.000000</td>\n",
       "      <td>103.000000</td>\n",
       "      <td>2.000000</td>\n",
       "      <td>2.500000</td>\n",
       "      <td>3.000000</td>\n",
       "      <td>8.170000</td>\n",
       "      <td>0.000000</td>\n",
       "      <td>0.640000</td>\n",
       "    </tr>\n",
       "    <tr>\n",
       "      <th>50%</th>\n",
       "      <td>317.000000</td>\n",
       "      <td>107.000000</td>\n",
       "      <td>3.000000</td>\n",
       "      <td>3.500000</td>\n",
       "      <td>3.500000</td>\n",
       "      <td>8.610000</td>\n",
       "      <td>1.000000</td>\n",
       "      <td>0.730000</td>\n",
       "    </tr>\n",
       "    <tr>\n",
       "      <th>75%</th>\n",
       "      <td>325.000000</td>\n",
       "      <td>112.000000</td>\n",
       "      <td>4.000000</td>\n",
       "      <td>4.000000</td>\n",
       "      <td>4.000000</td>\n",
       "      <td>9.062500</td>\n",
       "      <td>1.000000</td>\n",
       "      <td>0.830000</td>\n",
       "    </tr>\n",
       "    <tr>\n",
       "      <th>max</th>\n",
       "      <td>340.000000</td>\n",
       "      <td>120.000000</td>\n",
       "      <td>5.000000</td>\n",
       "      <td>5.000000</td>\n",
       "      <td>5.000000</td>\n",
       "      <td>9.920000</td>\n",
       "      <td>1.000000</td>\n",
       "      <td>0.970000</td>\n",
       "    </tr>\n",
       "  </tbody>\n",
       "</table>\n",
       "</div>"
      ],
      "text/plain": [
       "        GRE Score  TOEFL Score  University Rating         SOP        LOR   \\\n",
       "count  400.000000   400.000000         400.000000  400.000000  400.000000   \n",
       "mean   316.807500   107.410000           3.087500    3.400000    3.452500   \n",
       "std     11.473646     6.069514           1.143728    1.006869    0.898478   \n",
       "min    290.000000    92.000000           1.000000    1.000000    1.000000   \n",
       "25%    308.000000   103.000000           2.000000    2.500000    3.000000   \n",
       "50%    317.000000   107.000000           3.000000    3.500000    3.500000   \n",
       "75%    325.000000   112.000000           4.000000    4.000000    4.000000   \n",
       "max    340.000000   120.000000           5.000000    5.000000    5.000000   \n",
       "\n",
       "             CGPA    Research  Chance of Admit   \n",
       "count  400.000000  400.000000        400.000000  \n",
       "mean     8.598925    0.547500          0.724350  \n",
       "std      0.596317    0.498362          0.142609  \n",
       "min      6.800000    0.000000          0.340000  \n",
       "25%      8.170000    0.000000          0.640000  \n",
       "50%      8.610000    1.000000          0.730000  \n",
       "75%      9.062500    1.000000          0.830000  \n",
       "max      9.920000    1.000000          0.970000  "
      ]
     },
     "execution_count": 10,
     "metadata": {},
     "output_type": "execute_result"
    }
   ],
   "source": [
    "dataset.describe()"
   ]
  },
  {
   "cell_type": "code",
   "execution_count": 11,
   "metadata": {},
   "outputs": [
    {
     "data": {
      "text/html": [
       "<div>\n",
       "<style scoped>\n",
       "    .dataframe tbody tr th:only-of-type {\n",
       "        vertical-align: middle;\n",
       "    }\n",
       "\n",
       "    .dataframe tbody tr th {\n",
       "        vertical-align: top;\n",
       "    }\n",
       "\n",
       "    .dataframe thead th {\n",
       "        text-align: right;\n",
       "    }\n",
       "</style>\n",
       "<table border=\"1\" class=\"dataframe\">\n",
       "  <thead>\n",
       "    <tr style=\"text-align: right;\">\n",
       "      <th></th>\n",
       "      <th>GRE Score</th>\n",
       "      <th>TOEFL Score</th>\n",
       "      <th>University Rating</th>\n",
       "      <th>SOP</th>\n",
       "      <th>LOR</th>\n",
       "      <th>CGPA</th>\n",
       "      <th>Research</th>\n",
       "      <th>Chance of Admit</th>\n",
       "    </tr>\n",
       "  </thead>\n",
       "  <tbody>\n",
       "    <tr>\n",
       "      <th>GRE Score</th>\n",
       "      <td>1.000000</td>\n",
       "      <td>0.835977</td>\n",
       "      <td>0.668976</td>\n",
       "      <td>0.612831</td>\n",
       "      <td>0.557555</td>\n",
       "      <td>0.833060</td>\n",
       "      <td>0.580391</td>\n",
       "      <td>0.802610</td>\n",
       "    </tr>\n",
       "    <tr>\n",
       "      <th>TOEFL Score</th>\n",
       "      <td>0.835977</td>\n",
       "      <td>1.000000</td>\n",
       "      <td>0.695590</td>\n",
       "      <td>0.657981</td>\n",
       "      <td>0.567721</td>\n",
       "      <td>0.828417</td>\n",
       "      <td>0.489858</td>\n",
       "      <td>0.791594</td>\n",
       "    </tr>\n",
       "    <tr>\n",
       "      <th>University Rating</th>\n",
       "      <td>0.668976</td>\n",
       "      <td>0.695590</td>\n",
       "      <td>1.000000</td>\n",
       "      <td>0.734523</td>\n",
       "      <td>0.660123</td>\n",
       "      <td>0.746479</td>\n",
       "      <td>0.447783</td>\n",
       "      <td>0.711250</td>\n",
       "    </tr>\n",
       "    <tr>\n",
       "      <th>SOP</th>\n",
       "      <td>0.612831</td>\n",
       "      <td>0.657981</td>\n",
       "      <td>0.734523</td>\n",
       "      <td>1.000000</td>\n",
       "      <td>0.729593</td>\n",
       "      <td>0.718144</td>\n",
       "      <td>0.444029</td>\n",
       "      <td>0.675732</td>\n",
       "    </tr>\n",
       "    <tr>\n",
       "      <th>LOR</th>\n",
       "      <td>0.557555</td>\n",
       "      <td>0.567721</td>\n",
       "      <td>0.660123</td>\n",
       "      <td>0.729593</td>\n",
       "      <td>1.000000</td>\n",
       "      <td>0.670211</td>\n",
       "      <td>0.396859</td>\n",
       "      <td>0.669889</td>\n",
       "    </tr>\n",
       "    <tr>\n",
       "      <th>CGPA</th>\n",
       "      <td>0.833060</td>\n",
       "      <td>0.828417</td>\n",
       "      <td>0.746479</td>\n",
       "      <td>0.718144</td>\n",
       "      <td>0.670211</td>\n",
       "      <td>1.000000</td>\n",
       "      <td>0.521654</td>\n",
       "      <td>0.873289</td>\n",
       "    </tr>\n",
       "    <tr>\n",
       "      <th>Research</th>\n",
       "      <td>0.580391</td>\n",
       "      <td>0.489858</td>\n",
       "      <td>0.447783</td>\n",
       "      <td>0.444029</td>\n",
       "      <td>0.396859</td>\n",
       "      <td>0.521654</td>\n",
       "      <td>1.000000</td>\n",
       "      <td>0.553202</td>\n",
       "    </tr>\n",
       "    <tr>\n",
       "      <th>Chance of Admit</th>\n",
       "      <td>0.802610</td>\n",
       "      <td>0.791594</td>\n",
       "      <td>0.711250</td>\n",
       "      <td>0.675732</td>\n",
       "      <td>0.669889</td>\n",
       "      <td>0.873289</td>\n",
       "      <td>0.553202</td>\n",
       "      <td>1.000000</td>\n",
       "    </tr>\n",
       "  </tbody>\n",
       "</table>\n",
       "</div>"
      ],
      "text/plain": [
       "                   GRE Score  TOEFL Score  University Rating       SOP  \\\n",
       "GRE Score           1.000000     0.835977           0.668976  0.612831   \n",
       "TOEFL Score         0.835977     1.000000           0.695590  0.657981   \n",
       "University Rating   0.668976     0.695590           1.000000  0.734523   \n",
       "SOP                 0.612831     0.657981           0.734523  1.000000   \n",
       "LOR                 0.557555     0.567721           0.660123  0.729593   \n",
       "CGPA                0.833060     0.828417           0.746479  0.718144   \n",
       "Research            0.580391     0.489858           0.447783  0.444029   \n",
       "Chance of Admit     0.802610     0.791594           0.711250  0.675732   \n",
       "\n",
       "                       LOR       CGPA  Research  Chance of Admit   \n",
       "GRE Score          0.557555  0.833060  0.580391          0.802610  \n",
       "TOEFL Score        0.567721  0.828417  0.489858          0.791594  \n",
       "University Rating  0.660123  0.746479  0.447783          0.711250  \n",
       "SOP                0.729593  0.718144  0.444029          0.675732  \n",
       "LOR                1.000000  0.670211  0.396859          0.669889  \n",
       "CGPA               0.670211  1.000000  0.521654          0.873289  \n",
       "Research           0.396859  0.521654  1.000000          0.553202  \n",
       "Chance of Admit    0.669889  0.873289  0.553202          1.000000  "
      ]
     },
     "execution_count": 11,
     "metadata": {},
     "output_type": "execute_result"
    }
   ],
   "source": [
    "dataset.corr()#correlation"
   ]
  },
  {
   "cell_type": "code",
   "execution_count": 12,
   "metadata": {},
   "outputs": [
    {
     "data": {
      "text/plain": [
       "<matplotlib.axes._subplots.AxesSubplot at 0x162445ffd48>"
      ]
     },
     "execution_count": 12,
     "metadata": {},
     "output_type": "execute_result"
    },
    {
     "data": {
      "image/png": "[encoded data removed]",
      "text/plain": [
       "<Figure size 432x288 with 1 Axes>"
      ]
     },
     "metadata": {
      "needs_background": "light"
     },
     "output_type": "display_data"
    }
   ],
   "source": [
    "import seaborn as sns\n",
    "sns.boxplot(dataset['GRE Score'])"
   ]
  },
  {
   "cell_type": "code",
   "execution_count": 13,
   "metadata": {},
   "outputs": [
    {
     "data": {
      "text/plain": [
       "<matplotlib.axes._subplots.AxesSubplot at 0x16244d34b08>"
      ]
     },
     "execution_count": 13,
     "metadata": {},
     "output_type": "execute_result"
    },
    {
     "data": {
      "image/png": "[encoded data removed]",
      "text/plain": [
       "<Figure size 432x288 with 1 Axes>"
      ]
     },
     "metadata": {
      "needs_background": "light"
     },
     "output_type": "display_data"
    }
   ],
   "source": [
    "sns.boxplot(dataset['TOEFL Score'])"
   ]
  },
  {
   "cell_type": "code",
   "execution_count": 14,
   "metadata": {},
   "outputs": [
    {
     "data": {
      "text/plain": [
       "<matplotlib.axes._subplots.AxesSubplot at 0x16244dd7248>"
      ]
     },
     "execution_count": 14,
     "metadata": {},
     "output_type": "execute_result"
    },
    {
     "data": {
      "image/png": "[encoded data removed]",
      "text/plain": [
       "<Figure size 432x288 with 1 Axes>"
      ]
     },
     "metadata": {
      "needs_background": "light"
     },
     "output_type": "display_data"
    }
   ],
   "source": [
    "sns.boxplot(dataset['University Rating'])"
   ]
  },
  {
   "cell_type": "code",
   "execution_count": 15,
   "metadata": {},
   "outputs": [
    {
     "data": {
      "text/plain": [
       "<matplotlib.axes._subplots.AxesSubplot at 0x16244e4fd08>"
      ]
     },
     "execution_count": 15,
     "metadata": {},
     "output_type": "execute_result"
    },
    {
     "data": {
      "image/png": "[encoded data removed]",
      "text/plain": [
       "<Figure size 432x288 with 1 Axes>"
      ]
     },
     "metadata": {
      "needs_background": "light"
     },
     "output_type": "display_data"
    }
   ],
   "source": [
    "sns.boxplot(dataset['SOP'])"
   ]
  },
  {
   "cell_type": "code",
   "execution_count": 16,
   "metadata": {},
   "outputs": [
    {
     "data": {
      "text/plain": [
       "<matplotlib.axes._subplots.AxesSubplot at 0x16244effec8>"
      ]
     },
     "execution_count": 16,
     "metadata": {},
     "output_type": "execute_result"
    },
    {
     "data": {
      "image/png": "[encoded data removed]",
      "text/plain": [
       "<Figure size 432x288 with 2 Axes>"
      ]
     },
     "metadata": {
      "needs_background": "light"
     },
     "output_type": "display_data"
    }
   ],
   "source": [
    "sns.heatmap(dataset.corr(),annot=True)"
   ]
  },
  {
   "cell_type": "code",
   "execution_count": 17,
   "metadata": {},
   "outputs": [
    {
     "data": {
      "text/plain": [
       "<matplotlib.axes._subplots.AxesSubplot at 0x16244fdbd88>"
      ]
     },
     "execution_count": 17,
     "metadata": {},
     "output_type": "execute_result"
    },
    {
     "data": {
      "image/png": "[encoded data removed]",
      "text/plain": [
       "<Figure size 432x288 with 1 Axes>"
      ]
     },
     "metadata": {
      "needs_background": "light"
     },
     "output_type": "display_data"
    }
   ],
   "source": [
    "sns.boxplot(dataset['CGPA'])"
   ]
  },
  {
   "cell_type": "code",
   "execution_count": 18,
   "metadata": {},
   "outputs": [
    {
     "data": {
      "text/plain": [
       "array([[1.76210664, 1.74697064, 0.79882862, ..., 1.76481828, 0.90911166,\n",
       "        1.37364801],\n",
       "       [0.62765641, 0.06763531, 0.79882862, ..., 0.45515126, 0.90911166,\n",
       "        0.25029671],\n",
       "       [0.07046681, 0.56252785, 0.07660001, ..., 1.00563118, 0.90911166,\n",
       "        0.03054111],\n",
       "       ...,\n",
       "       [1.15124883, 1.41704229, 0.79882862, ..., 1.42900622, 0.90911166,\n",
       "        1.30343855],\n",
       "       [0.41952842, 0.72749202, 0.07660001, ..., 0.30403584, 1.09997489,\n",
       "        0.38158839],\n",
       "       [1.41304503, 1.58200646, 0.79882862, ..., 1.78160888, 0.90911166,\n",
       "        1.58427637]])"
      ]
     },
     "execution_count": 18,
     "metadata": {},
     "output_type": "execute_result"
    }
   ],
   "source": [
    "from scipy import stats #z-score is present in stats\n",
    "z=np.abs(stats.zscore(dataset))# abs is used to convert negative and positive values into postive\n",
    "z"
   ]
  },
  {
   "cell_type": "code",
   "execution_count": 19,
   "metadata": {},
   "outputs": [
    {
     "data": {
      "text/plain": [
       "(array([58], dtype=int64), array([5], dtype=int64))"
      ]
     },
     "execution_count": 19,
     "metadata": {},
     "output_type": "execute_result"
    }
   ],
   "source": [
    "threshold=3\n",
    "np.where(z>threshold)"
   ]
  },
  {
   "cell_type": "code",
   "execution_count": 20,
   "metadata": {},
   "outputs": [
    {
     "data": {
      "text/html": [
       "<div>\n",
       "<style scoped>\n",
       "    .dataframe tbody tr th:only-of-type {\n",
       "        vertical-align: middle;\n",
       "    }\n",
       "\n",
       "    .dataframe tbody tr th {\n",
       "        vertical-align: top;\n",
       "    }\n",
       "\n",
       "    .dataframe thead th {\n",
       "        text-align: right;\n",
       "    }\n",
       "</style>\n",
       "<table border=\"1\" class=\"dataframe\">\n",
       "  <thead>\n",
       "    <tr style=\"text-align: right;\">\n",
       "      <th></th>\n",
       "      <th>GRE Score</th>\n",
       "      <th>TOEFL Score</th>\n",
       "      <th>University Rating</th>\n",
       "      <th>SOP</th>\n",
       "      <th>LOR</th>\n",
       "      <th>CGPA</th>\n",
       "      <th>Research</th>\n",
       "      <th>Chance of Admit</th>\n",
       "    </tr>\n",
       "  </thead>\n",
       "  <tbody>\n",
       "    <tr>\n",
       "      <th>0</th>\n",
       "      <td>337</td>\n",
       "      <td>118</td>\n",
       "      <td>4</td>\n",
       "      <td>4.5</td>\n",
       "      <td>4.5</td>\n",
       "      <td>9.65</td>\n",
       "      <td>1</td>\n",
       "      <td>0.92</td>\n",
       "    </tr>\n",
       "    <tr>\n",
       "      <th>1</th>\n",
       "      <td>324</td>\n",
       "      <td>107</td>\n",
       "      <td>4</td>\n",
       "      <td>4.0</td>\n",
       "      <td>4.5</td>\n",
       "      <td>8.87</td>\n",
       "      <td>1</td>\n",
       "      <td>0.76</td>\n",
       "    </tr>\n",
       "    <tr>\n",
       "      <th>2</th>\n",
       "      <td>316</td>\n",
       "      <td>104</td>\n",
       "      <td>3</td>\n",
       "      <td>3.0</td>\n",
       "      <td>3.5</td>\n",
       "      <td>8.00</td>\n",
       "      <td>1</td>\n",
       "      <td>0.72</td>\n",
       "    </tr>\n",
       "    <tr>\n",
       "      <th>3</th>\n",
       "      <td>322</td>\n",
       "      <td>110</td>\n",
       "      <td>3</td>\n",
       "      <td>3.5</td>\n",
       "      <td>2.5</td>\n",
       "      <td>8.67</td>\n",
       "      <td>1</td>\n",
       "      <td>0.80</td>\n",
       "    </tr>\n",
       "    <tr>\n",
       "      <th>4</th>\n",
       "      <td>314</td>\n",
       "      <td>103</td>\n",
       "      <td>2</td>\n",
       "      <td>2.0</td>\n",
       "      <td>3.0</td>\n",
       "      <td>8.21</td>\n",
       "      <td>0</td>\n",
       "      <td>0.65</td>\n",
       "    </tr>\n",
       "    <tr>\n",
       "      <th>...</th>\n",
       "      <td>...</td>\n",
       "      <td>...</td>\n",
       "      <td>...</td>\n",
       "      <td>...</td>\n",
       "      <td>...</td>\n",
       "      <td>...</td>\n",
       "      <td>...</td>\n",
       "      <td>...</td>\n",
       "    </tr>\n",
       "    <tr>\n",
       "      <th>395</th>\n",
       "      <td>324</td>\n",
       "      <td>110</td>\n",
       "      <td>3</td>\n",
       "      <td>3.5</td>\n",
       "      <td>3.5</td>\n",
       "      <td>9.04</td>\n",
       "      <td>1</td>\n",
       "      <td>0.82</td>\n",
       "    </tr>\n",
       "    <tr>\n",
       "      <th>396</th>\n",
       "      <td>325</td>\n",
       "      <td>107</td>\n",
       "      <td>3</td>\n",
       "      <td>3.0</td>\n",
       "      <td>3.5</td>\n",
       "      <td>9.11</td>\n",
       "      <td>1</td>\n",
       "      <td>0.84</td>\n",
       "    </tr>\n",
       "    <tr>\n",
       "      <th>397</th>\n",
       "      <td>330</td>\n",
       "      <td>116</td>\n",
       "      <td>4</td>\n",
       "      <td>5.0</td>\n",
       "      <td>4.5</td>\n",
       "      <td>9.45</td>\n",
       "      <td>1</td>\n",
       "      <td>0.91</td>\n",
       "    </tr>\n",
       "    <tr>\n",
       "      <th>398</th>\n",
       "      <td>312</td>\n",
       "      <td>103</td>\n",
       "      <td>3</td>\n",
       "      <td>3.5</td>\n",
       "      <td>4.0</td>\n",
       "      <td>8.78</td>\n",
       "      <td>0</td>\n",
       "      <td>0.67</td>\n",
       "    </tr>\n",
       "    <tr>\n",
       "      <th>399</th>\n",
       "      <td>333</td>\n",
       "      <td>117</td>\n",
       "      <td>4</td>\n",
       "      <td>5.0</td>\n",
       "      <td>4.0</td>\n",
       "      <td>9.66</td>\n",
       "      <td>1</td>\n",
       "      <td>0.95</td>\n",
       "    </tr>\n",
       "  </tbody>\n",
       "</table>\n",
       "<p>399 rows × 8 columns</p>\n",
       "</div>"
      ],
      "text/plain": [
       "     GRE Score  TOEFL Score  University Rating  SOP  LOR   CGPA  Research  \\\n",
       "0          337          118                  4  4.5   4.5  9.65         1   \n",
       "1          324          107                  4  4.0   4.5  8.87         1   \n",
       "2          316          104                  3  3.0   3.5  8.00         1   \n",
       "3          322          110                  3  3.5   2.5  8.67         1   \n",
       "4          314          103                  2  2.0   3.0  8.21         0   \n",
       "..         ...          ...                ...  ...   ...   ...       ...   \n",
       "395        324          110                  3  3.5   3.5  9.04         1   \n",
       "396        325          107                  3  3.0   3.5  9.11         1   \n",
       "397        330          116                  4  5.0   4.5  9.45         1   \n",
       "398        312          103                  3  3.5   4.0  8.78         0   \n",
       "399        333          117                  4  5.0   4.0  9.66         1   \n",
       "\n",
       "     Chance of Admit   \n",
       "0                0.92  \n",
       "1                0.76  \n",
       "2                0.72  \n",
       "3                0.80  \n",
       "4                0.65  \n",
       "..                ...  \n",
       "395              0.82  \n",
       "396              0.84  \n",
       "397              0.91  \n",
       "398              0.67  \n",
       "399              0.95  \n",
       "\n",
       "[399 rows x 8 columns]"
      ]
     },
     "execution_count": 20,
     "metadata": {},
     "output_type": "execute_result"
    }
   ],
   "source": [
    "dataset=dataset[(z<3).all(axis=1)]\n",
    "dataset"
   ]
  },
  {
   "cell_type": "code",
   "execution_count": 21,
   "metadata": {},
   "outputs": [
    {
     "data": {
      "text/plain": [
       "<matplotlib.axes._subplots.AxesSubplot at 0x162450f2708>"
      ]
     },
     "execution_count": 21,
     "metadata": {},
     "output_type": "execute_result"
    },
    {
     "data": {
      "image/png": "[encoded data removed]",
      "text/plain": [
       "<Figure size 432x288 with 1 Axes>"
      ]
     },
     "metadata": {
      "needs_background": "light"
     },
     "output_type": "display_data"
    }
   ],
   "source": [
    "sns.boxplot(dataset['CGPA'])"
   ]
  },
  {
   "cell_type": "code",
   "execution_count": 24,
   "metadata": {},
   "outputs": [
    {
     "data": {
      "text/plain": [
       "<matplotlib.collections.PathCollection at 0x16245418fc8>"
      ]
     },
     "execution_count": 24,
     "metadata": {},
     "output_type": "execute_result"
    },
    {
     "data": {
      "image/png": "[encoded data removed]",
      "text/plain": [
       "<Figure size 432x288 with 1 Axes>"
      ]
     },
     "metadata": {
      "needs_background": "light"
     },
     "output_type": "display_data"
    }
   ],
   "source": [
    "plt.scatter(x[:,2],y)"
   ]
  },
  {
   "cell_type": "code",
   "execution_count": 25,
   "metadata": {},
   "outputs": [
    {
     "data": {
      "text/plain": [
       "<matplotlib.collections.PathCollection at 0x162454182c8>"
      ]
     },
     "execution_count": 25,
     "metadata": {},
     "output_type": "execute_result"
    },
    {
     "data": {
      "image/png": "[encoded data removed]",
      "text/plain": [
       "<Figure size 432x288 with 1 Axes>"
      ]
     },
     "metadata": {
      "needs_background": "light"
     },
     "output_type": "display_data"
    }
   ],
   "source": [
    "plt.scatter(x[:,3],y)"
   ]
  },
  {
   "cell_type": "code",
   "execution_count": 26,
   "metadata": {},
   "outputs": [
    {
     "data": {
      "text/plain": [
       "<matplotlib.collections.PathCollection at 0x16245489d48>"
      ]
     },
     "execution_count": 26,
     "metadata": {},
     "output_type": "execute_result"
    },
    {
     "data": {
      "image/png": "[encoded data removed]",
      "text/plain": [
       "<Figure size 432x288 with 1 Axes>"
      ]
     },
     "metadata": {
      "needs_background": "light"
     },
     "output_type": "display_data"
    }
   ],
   "source": [
    "plt.scatter(x[:,4],y)"
   ]
  },
  {
   "cell_type": "code",
   "execution_count": 27,
   "metadata": {},
   "outputs": [
    {
     "data": {
      "text/plain": [
       "<matplotlib.collections.PathCollection at 0x162454f6b48>"
      ]
     },
     "execution_count": 27,
     "metadata": {},
     "output_type": "execute_result"
    },
    {
     "data": {
      "image/png": "[encoded data removed]",
      "text/plain": [
       "<Figure size 432x288 with 1 Axes>"
      ]
     },
     "metadata": {
      "needs_background": "light"
     },
     "output_type": "display_data"
    }
   ],
   "source": [
    "plt.scatter(x[:,5],y)"
   ]
  },
  {
   "cell_type": "code",
   "execution_count": 28,
   "metadata": {},
   "outputs": [
    {
     "data": {
      "text/plain": [
       "<matplotlib.collections.PathCollection at 0x1624555e908>"
      ]
     },
     "execution_count": 28,
     "metadata": {},
     "output_type": "execute_result"
    },
    {
     "data": {
      "image/png": "[encoded data removed]",
      "text/plain": [
       "<Figure size 432x288 with 1 Axes>"
      ]
     },
     "metadata": {
      "needs_background": "light"
     },
     "output_type": "display_data"
    }
   ],
   "source": [
    "plt.scatter(x[:,1],y)"
   ]
  },
  {
   "cell_type": "code",
   "execution_count": 29,
   "metadata": {},
   "outputs": [],
   "source": [
    "from sklearn.model_selection import train_test_split          \n",
    "x_train,x_test,y_train,y_test=train_test_split(x,y,test_size=0.2,random_state=0)"
   ]
  },
  {
   "cell_type": "code",
   "execution_count": 30,
   "metadata": {},
   "outputs": [],
   "source": [
    "#Normialization using standard scalar\n",
    "from sklearn.preprocessing import StandardScaler\n",
    "sc= StandardScaler()\n",
    "x_train=sc.fit_transform(x_train)\n",
    "x_test= sc.transform(x_test)"
   ]
  },
  {
   "cell_type": "code",
   "execution_count": 31,
   "metadata": {},
   "outputs": [
    {
     "data": {
      "text/plain": [
       "array([[ 0.42056561, -0.09750979, -0.40190441, ...,  0.28993359,\n",
       "        -1.12672248, -0.04616416],\n",
       "       [ 0.58488917, -0.09750979, -0.40190441, ...,  0.14151398,\n",
       "        -1.12672248, -1.43325623],\n",
       "       [-0.72969931, -0.09750979, -0.40190441, ..., -1.5075928 ,\n",
       "        -1.12672248, -0.60100099],\n",
       "       ...,\n",
       "       [-0.56537575,  0.76924386, -1.36889245, ..., -1.90337843,\n",
       "        -1.12672248, -1.91873846],\n",
       "       [ 1.89947766,  1.63599751,  1.04857766, ...,  1.79062075,\n",
       "        -1.12672248,  1.13286411],\n",
       "       [ 0.42056561,  0.76924386,  0.56508364, ...,  0.85062989,\n",
       "         0.88753   ,  0.9248003 ]])"
      ]
     },
     "execution_count": 31,
     "metadata": {},
     "output_type": "execute_result"
    }
   ],
   "source": [
    "x_train"
   ]
  },
  {
   "cell_type": "code",
   "execution_count": 32,
   "metadata": {},
   "outputs": [
    {
     "data": {
      "text/plain": [
       "array([34, 14, 26, 49, 24, 44, 19, 41, 44, 43, 40, 55, 26, 12, 52, 37, 44,\n",
       "       26, 37, 39, 36, 18, 40, 14, 42, 37, 58, 24, 41, 30, 10, 36, 38, 32,\n",
       "       48, 53, 52, 40, 32, 21,  0, 33, 53, 31,  9, 54, 56, 33, 36, 26, 55,\n",
       "       39, 23, 22, 46, 26, 46, 39, 25, 27, 43, 46, 27, 21, 32, 19, 32, 43,\n",
       "       50, 18, 42, 56, 41, 24, 55, 38, 40, 47, 32, 33, 42, 41, 52, 18, 29,\n",
       "       56, 36, 48, 38,  9, 26, 43, 35, 33, 35, 51, 55, 48, 37, 46, 29, 46,\n",
       "       33, 35, 38, 41, 16, 33, 47, 16, 18, 42, 26,  6, 34, 47, 32, 57,  0,\n",
       "       37, 42, 47, 36, 20, 28, 42, 21, 50, 31, 46, 19, 59, 37, 53, 27, 54,\n",
       "        6, 31, 27, 38, 24, 20,  8, 25, 56,  8, 39, 51, 58, 24, 19, 58, 58,\n",
       "       11, 33, 19, 36, 15, 54, 50, 53,  9, 47, 55, 26,  2, 23, 41, 27, 48,\n",
       "       28, 39, 34, 30, 31, 19, 27, 40, 48, 42, 42, 31, 24, 25, 41, 42, 51,\n",
       "       26, 26, 34, 28, 33,  9, 30, 41, 12, 39, 46, 52, 34, 34, 26, 44,  1,\n",
       "       11, 34, 38, 30, 20, 16, 35, 23, 38, 16, 27, 58, 55, 57, 49, 54, 34,\n",
       "       43, 52, 15, 34, 38,  1, 29,  4, 35, 27, 40, 36, 44, 28, 29, 26, 58,\n",
       "       59, 33, 39, 30, 29, 32, 29, 59, 56, 56, 11, 36,  2, 54, 35, 33, 18,\n",
       "        8, 35, 40, 35, 15, 31, 13, 14, 25, 14, 34,  4, 46, 20,  8, 37, 30,\n",
       "       56, 25, 59, 36, 53, 40, 51, 57, 44, 53, 45, 55, 34, 44, 41, 43, 45,\n",
       "       35, 38, 28, 33, 55, 33, 56, 40, 56, 58, 49,  8, 10, 56, 28, 26, 56,\n",
       "       28, 18, 32, 32, 44,  7, 43, 40, 32, 24, 48,  7, 51, 48],\n",
       "      dtype=int64)"
      ]
     },
     "execution_count": 32,
     "metadata": {},
     "output_type": "execute_result"
    }
   ],
   "source": [
    "y_train"
   ]
  },
  {
   "cell_type": "code",
   "execution_count": 33,
   "metadata": {},
   "outputs": [
    {
     "data": {
      "text/plain": [
       "array([[-0.40105219,  1.63599751,  0.08158962,  0.02594802, -0.08936097,\n",
       "        -1.12672248, -0.11551876],\n",
       "       [ 0.42056561,  0.76924386,  0.08158962, -0.52760981, -0.0233967 ,\n",
       "        -1.12672248, -0.18487337],\n",
       "       [ 0.42056561, -0.09750979,  0.08158962,  0.02594802,  0.24046038,\n",
       "         0.88753   ,  0.43931807],\n",
       "       [-0.40105219, -0.96426343, -0.40190441, -1.08116764, -0.58409301,\n",
       "        -1.12672248,  0.02319045],\n",
       "       [-0.40105219, -0.09750979, -0.40190441,  0.02594802,  0.19098718,\n",
       "        -1.12672248, -0.04616416],\n",
       "       [-1.22267   , -0.96426343, -0.40190441, -0.52760981, -0.84795009,\n",
       "        -1.12672248, -1.71067465],\n",
       "       [ 0.25624205, -0.09750979, -0.40190441, -0.52760981,  0.12502291,\n",
       "        -1.12672248,  0.30060886],\n",
       "       [-0.56537575, -0.09750979,  0.08158962,  0.57950586, -0.86444116,\n",
       "        -1.12672248, -0.11551876],\n",
       "       [ 1.7351541 , -0.96426343,  1.04857766,  0.02594802,  1.22992445,\n",
       "         0.88753   ,  1.20221871],\n",
       "       [ 1.57083054,  0.76924386,  1.04857766,  1.68662152,  1.32887086,\n",
       "         0.88753   ,  1.47963713],\n",
       "       [-0.40105219, -1.83101708, -2.3358805 , -1.63472547, -1.34268212,\n",
       "        -1.12672248, -1.01712861],\n",
       "       [ 0.9135363 ,  1.63599751,  0.56508364,  0.57950586,  1.09799591,\n",
       "         0.88753   ,  1.13286411],\n",
       "       [ 0.42056561, -0.96426343,  0.56508364,  0.02594802, -0.08936097,\n",
       "        -1.12672248, -0.04616416],\n",
       "       [-1.38699356, -1.83101708, -1.36889245, -1.63472547, -2.24969085,\n",
       "        -1.12672248, -1.08648322],\n",
       "       [ 0.74921274,  0.76924386,  0.56508364,  1.13306369,  0.80115669,\n",
       "         0.88753   ,  0.36996346],\n",
       "       [-0.56537575, -0.96426343, -1.36889245, -1.63472547, -0.51812874,\n",
       "        -1.12672248, -2.12680227],\n",
       "       [-1.55131712, -1.83101708,  0.08158962, -0.52760981, -0.71602155,\n",
       "         0.88753   , -0.60100099],\n",
       "       [ 0.42056561, -0.96426343,  0.56508364, -0.52760981,  0.88361203,\n",
       "         0.88753   ,  0.78609109],\n",
       "       [-1.38699356, -0.96426343,  0.08158962, -0.52760981, -1.19426251,\n",
       "        -1.12672248, -0.67035559],\n",
       "       [-0.07240507, -0.09750979,  0.56508364,  1.13306369,  0.12502291,\n",
       "        -1.12672248, -0.04616416],\n",
       "       [ 1.89947766,  0.76924386,  1.04857766,  1.13306369,  0.90010309,\n",
       "         0.88753   ,  1.20221871],\n",
       "       [ 0.9135363 ,  0.76924386,  1.04857766,  1.68662152,  0.86712096,\n",
       "        -1.12672248,  0.71673648],\n",
       "       [-0.23672863,  0.76924386, -0.88539843, -0.52760981, -0.23778058,\n",
       "        -1.12672248, -1.08648322],\n",
       "       [-1.87996424, -0.96426343, -1.85238648, -1.63472547, -2.10127124,\n",
       "        -1.12672248, -1.78002925],\n",
       "       [ 0.58488917,  0.76924386,  1.04857766,  0.02594802,  0.42186213,\n",
       "         0.88753   ,  0.85544569],\n",
       "       [-1.22267   , -0.09750979,  0.08158962, -0.52760981, -0.9468965 ,\n",
       "        -1.12672248, -0.39293718],\n",
       "       [-2.0442878 , -0.96426343, -0.40190441, -1.63472547, -1.77144989,\n",
       "         0.88753   , -1.98809306],\n",
       "       [-0.40105219, -0.09750979,  0.08158962, -1.08116764, -0.51812874,\n",
       "        -1.12672248, -1.29454703],\n",
       "       [ 1.7351541 ,  1.63599751,  1.04857766,  0.57950586,  0.9495763 ,\n",
       "         0.88753   ,  1.34092792],\n",
       "       [-0.23672863, -0.96426343,  0.56508364,  0.02594802, -0.60058407,\n",
       "        -1.12672248, -0.7397102 ],\n",
       "       [-1.05834643, -0.96426343, -0.88539843,  0.02594802, -0.9468965 ,\n",
       "         0.88753   , -0.32358257],\n",
       "       [-0.07240507, -0.09750979,  0.08158962,  0.02594802, -0.10585204,\n",
       "         0.88753   ,  0.02319045],\n",
       "       [-0.07240507,  0.76924386,  1.04857766,  0.57950586,  0.05905864,\n",
       "         0.88753   ,  0.02319045],\n",
       "       [-1.38699356, -0.96426343, -0.88539843, -1.08116764, -0.96338757,\n",
       "        -1.12672248, -0.8090648 ],\n",
       "       [ 0.74921274,  0.76924386,  0.08158962,  0.02594802,  0.50431747,\n",
       "        -1.12672248, -1.22519242],\n",
       "       [ 0.74921274, -0.09750979, -0.40190441, -0.52760981,  0.17449611,\n",
       "         0.88753   ,  0.09254505],\n",
       "       [-0.23672863, -0.96426343,  0.56508364,  0.57950586, -1.14478931,\n",
       "         0.88753   , -0.60100099],\n",
       "       [ 0.9135363 ,  0.76924386,  0.56508364,  1.13306369,  1.01554057,\n",
       "         0.88753   ,  1.13286411],\n",
       "       [-0.89402287, -0.09750979, -0.40190441, -0.52760981, -0.56760194,\n",
       "        -1.12672248,  0.02319045],\n",
       "       [ 1.57083054,  0.76924386,  1.53207169,  0.57950586,  1.72465648,\n",
       "         0.88753   ,  1.54899173],\n",
       "       [-0.07240507, -0.09750979,  0.08158962,  0.02594802, -0.25427165,\n",
       "         0.88753   , -0.11551876],\n",
       "       [-0.07240507, -0.96426343, -0.88539843,  0.57950586, -0.56760194,\n",
       "        -1.12672248, -0.04616416],\n",
       "       [ 0.25624205, -0.09750979, -0.40190441,  0.57950586, -0.68303941,\n",
       "         0.88753   ,  0.16189965],\n",
       "       [-0.07240507,  0.76924386,  0.56508364,  1.13306369,  0.42186213,\n",
       "         0.88753   ,  0.23125426],\n",
       "       [ 2.06380122, -0.09750979,  0.56508364,  1.13306369,  0.81764775,\n",
       "        -1.12672248,  0.9248003 ],\n",
       "       [ 0.42056561, -0.09750979, -0.40190441,  0.02594802, -1.01286077,\n",
       "        -1.12672248, -0.18487337],\n",
       "       [-0.40105219, -0.96426343, -1.36889245, -1.08116764, -1.59004814,\n",
       "        -1.12672248, -2.33486608],\n",
       "       [ 0.42056561,  0.76924386,  0.56508364,  1.13306369, -0.40269126,\n",
       "        -1.12672248,  0.43931807],\n",
       "       [-0.23672863, -0.96426343, -1.36889245, -1.08116764, -0.78198582,\n",
       "        -1.12672248, -0.8090648 ],\n",
       "       [-1.22267   , -0.96426343, -0.88539843,  0.02594802, -0.89742329,\n",
       "        -1.12672248, -0.60100099],\n",
       "       [-0.56537575, -0.96426343, -0.88539843,  0.02594802, -0.22128952,\n",
       "        -1.12672248, -0.11551876],\n",
       "       [ 0.74921274, -0.96426343, -0.40190441,  0.02594802,  0.57028174,\n",
       "         0.88753   ,  0.50867267],\n",
       "       [-1.05834643, -0.96426343, -0.88539843, -1.63472547, -0.4851466 ,\n",
       "         0.88753   , -0.8090648 ],\n",
       "       [ 1.57083054,  1.63599751,  0.56508364,  1.13306369,  0.75168348,\n",
       "         0.88753   ,  1.13286411],\n",
       "       [-0.89402287, -0.09750979,  1.04857766,  0.57950586,  0.04256757,\n",
       "         0.88753   , -0.32358257],\n",
       "       [ 0.58488917, -0.09750979, -0.88539843, -1.63472547,  0.30642465,\n",
       "         0.88753   ,  0.43931807],\n",
       "       [ 1.40650698,  0.76924386,  0.56508364, -0.52760981, -1.01286077,\n",
       "         0.88753   ,  0.36996346],\n",
       "       [-0.23672863, -0.09750979,  0.08158962,  0.57950586, -0.35321806,\n",
       "         0.88753   , -1.43325623],\n",
       "       [ 0.25624205,  1.63599751,  1.04857766,  0.02594802,  0.30642465,\n",
       "        -1.12672248,  0.23125426],\n",
       "       [ 0.42056561,  1.63599751,  1.53207169,  0.57950586,  0.80115669,\n",
       "         0.88753   ,  1.0635095 ],\n",
       "       [-0.23672863, -0.09750979, -0.40190441,  1.68662152,  0.47133533,\n",
       "        -1.12672248,  0.09254505],\n",
       "       [-2.0442878 , -1.83101708, -1.85238648, -2.18828331, -1.60653921,\n",
       "        -1.12672248, -1.64132005],\n",
       "       [-0.72969931, -0.96426343, -1.36889245, -0.52760981, -0.66654835,\n",
       "        -1.12672248, -0.53164638],\n",
       "       [-1.55131712, -0.96426343, -0.88539843, -0.52760981, -1.55706601,\n",
       "        -1.12672248, -0.94777401],\n",
       "       [ 0.42056561,  1.63599751,  0.56508364,  1.68662152,  0.60326387,\n",
       "         0.88753   ,  0.9941549 ],\n",
       "       [ 0.42056561, -0.09750979,  0.08158962, -0.52760981,  0.9990495 ,\n",
       "         0.88753   ,  1.13286411],\n",
       "       [ 0.9135363 , -0.96426343, -1.36889245, -1.08116764,  0.04256757,\n",
       "         0.88753   ,  0.57802728],\n",
       "       [ 1.24218342,  1.63599751,  1.04857766, -0.52760981,  1.19694231,\n",
       "         0.88753   ,  1.20221871],\n",
       "       [ 0.09191849, -0.09750979, -0.40190441,  0.02594802,  0.45484426,\n",
       "        -1.12672248,  0.50867267],\n",
       "       [-0.56537575, -0.09750979, -0.40190441,  0.02594802,  0.20747825,\n",
       "         0.88753   ,  0.23125426],\n",
       "       [-1.05834643, -0.96426343, -0.40190441,  0.57950586, -1.17777145,\n",
       "        -1.12672248, -0.32358257],\n",
       "       [ 0.09191849,  1.63599751,  1.53207169,  0.02594802,  0.85062989,\n",
       "         0.88753   ,  0.9941549 ],\n",
       "       [ 0.25624205, -0.09750979,  0.08158962,  0.57950586,  0.9990495 ,\n",
       "         0.88753   , -0.32358257],\n",
       "       [-0.07240507, -0.09750979, -0.40190441, -1.63472547, -1.17777145,\n",
       "         0.88753   , -0.60100099],\n",
       "       [ 1.57083054,  0.76924386,  0.08158962,  1.13306369,  1.39483513,\n",
       "         0.88753   ,  1.27157331],\n",
       "       [-0.56537575, -0.09750979,  0.08158962, -1.63472547, -0.68303941,\n",
       "         0.88753   , -0.8090648 ],\n",
       "       [-0.72969931, -0.96426343, -0.88539843, -0.52760981, -0.41918233,\n",
       "        -1.12672248, -0.25422797],\n",
       "       [-0.23672863, -0.96426343, -0.88539843, -1.63472547, -0.30374485,\n",
       "        -1.12672248, -0.7397102 ],\n",
       "       [ 1.40650698,  0.76924386,  0.56508364,  0.02594802,  1.52676367,\n",
       "         0.88753   ,  1.41028252],\n",
       "       [-1.87996424, -0.96426343, -0.88539843, -2.18828331, -1.19426251,\n",
       "        -1.12672248, -2.05744767]])"
      ]
     },
     "execution_count": 33,
     "metadata": {},
     "output_type": "execute_result"
    }
   ],
   "source": [
    "x_test"
   ]
  },
  {
   "cell_type": "code",
   "execution_count": 34,
   "metadata": {},
   "outputs": [
    {
     "data": {
      "text/plain": [
       "array([33, 32, 41, 35, 34, 10, 39, 33, 52, 56, 20, 51, 34, 19, 40,  4, 26,\n",
       "       46, 25, 34, 52, 45, 19,  9, 47, 29,  6, 16, 54, 24, 30, 35, 35, 23,\n",
       "       17, 36, 26, 51, 35, 57, 33, 34, 37, 38, 48, 32,  3, 41, 23, 26, 33,\n",
       "       42, 23, 51, 30, 41, 40, 14, 38, 50, 36, 11, 27, 21, 49, 51, 43, 52,\n",
       "       42, 38, 30, 49, 30, 26, 53, 23, 31, 24, 55,  5], dtype=int64)"
      ]
     },
     "execution_count": 34,
     "metadata": {},
     "output_type": "execute_result"
    }
   ],
   "source": [
    "y_test"
   ]
  },
  {
   "cell_type": "code",
   "execution_count": 35,
   "metadata": {},
   "outputs": [],
   "source": [
    "from sklearn.linear_model import LinearRegression\n",
    "mr= LinearRegression()"
   ]
  },
  {
   "cell_type": "code",
   "execution_count": 36,
   "metadata": {},
   "outputs": [
    {
     "data": {
      "text/plain": [
       "LinearRegression(copy_X=True, fit_intercept=True, n_jobs=None, normalize=False)"
      ]
     },
     "execution_count": 36,
     "metadata": {},
     "output_type": "execute_result"
    }
   ],
   "source": [
    "mr.fit(x_train,y_train)"
   ]
  },
  {
   "cell_type": "code",
   "execution_count": 44,
   "metadata": {},
   "outputs": [
    {
     "data": {
      "text/plain": [
       "['mlr.save']"
      ]
     },
     "execution_count": 44,
     "metadata": {},
     "output_type": "execute_result"
    }
   ],
   "source": [
    "from joblib import dump\n",
    "dump(mr,'mlr.save')"
   ]
  },
  {
   "cell_type": "code",
   "execution_count": 37,
   "metadata": {},
   "outputs": [
    {
     "data": {
      "text/plain": [
       "array([33.14252433, 32.12494536, 40.96911963, 34.90173767, 33.98065567,\n",
       "       10.41701607, 38.87836817, 33.00737364, 51.83497589, 55.81819526,\n",
       "       19.92402856, 50.92964141, 34.03217232, 19.02903985, 40.09490896,\n",
       "        4.46028356, 26.1765856 , 45.90908513, 25.14235876, 34.07005615,\n",
       "       51.89456698, 44.95463633, 19.28181466,  9.24037071, 47.00982413,\n",
       "       29.11358223,  6.57296307, 16.41304817, 53.91259822, 24.22797731,\n",
       "       30.00169459, 35.08556533, 35.24374255, 23.08988981, 17.45291923,\n",
       "       36.02400671, 26.23580706, 50.86867449, 34.94205214, 56.8909367 ,\n",
       "       33.12213263, 33.83333722, 36.95027396, 38.12680887, 47.78817592,\n",
       "       31.97019249,  1.46969417, 40.94448499, 23.03339182, 26.00705168,\n",
       "       32.88167328, 41.85466347, 23.2002688 , 50.90164923, 30.30675378,\n",
       "       40.88733627, 40.04946478, 14.51275227, 38.16307554, 50.05640902,\n",
       "       35.91731592, 11.18175976, 26.94534936, 21.09909989, 48.93428878,\n",
       "       50.79733006, 42.71736918, 51.98860789, 41.81836356, 37.97979444,\n",
       "       29.95674513, 49.09189246, 30.22407475, 26.20769989, 52.7803646 ,\n",
       "       23.3514817 , 30.9275587 , 24.09906308, 54.82215747,  5.48693802])"
      ]
     },
     "execution_count": 37,
     "metadata": {},
     "output_type": "execute_result"
    }
   ],
   "source": [
    "y_pred=mr.predict(x_test)\n",
    "y_pred"
   ]
  },
  {
   "cell_type": "code",
   "execution_count": 38,
   "metadata": {},
   "outputs": [
    {
     "data": {
      "text/plain": [
       "array([33, 32, 41, 35, 34, 10, 39, 33, 52, 56, 20, 51, 34, 19, 40,  4, 26,\n",
       "       46, 25, 34, 52, 45, 19,  9, 47, 29,  6, 16, 54, 24, 30, 35, 35, 23,\n",
       "       17, 36, 26, 51, 35, 57, 33, 34, 37, 38, 48, 32,  3, 41, 23, 26, 33,\n",
       "       42, 23, 51, 30, 41, 40, 14, 38, 50, 36, 11, 27, 21, 49, 51, 43, 52,\n",
       "       42, 38, 30, 49, 30, 26, 53, 23, 31, 24, 55,  5], dtype=int64)"
      ]
     },
     "execution_count": 38,
     "metadata": {},
     "output_type": "execute_result"
    }
   ],
   "source": [
    "y_test"
   ]
  },
  {
   "cell_type": "code",
   "execution_count": 39,
   "metadata": {},
   "outputs": [
    {
     "data": {
      "text/plain": [
       "0.9996255392731679"
      ]
     },
     "execution_count": 39,
     "metadata": {},
     "output_type": "execute_result"
    }
   ],
   "source": [
    "from sklearn.metrics import r2_score\n",
    "r2_score(y_test,y_pred)"
   ]
  },
  {
   "cell_type": "code",
   "execution_count": null,
   "metadata": {},
   "outputs": [],
   "source": []
  }
 ],
 "metadata": {
  "kernelspec": {
   "display_name": "Python 3",
   "language": "python",
   "name": "python3"
  },
  "language_info": {
   "codemirror_mode": {
    "name": "ipython",
    "version": 3
   },
   "file_extension": ".py",
   "mimetype": "text/x-python",
   "name": "python",
   "nbconvert_exporter": "python",
   "pygments_lexer": "ipython3",
   "version": "3.7.6"
  }
 },
 "nbformat": 4,
 "nbformat_minor": 4
}
